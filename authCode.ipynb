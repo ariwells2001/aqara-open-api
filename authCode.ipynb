{
  "nbformat": 4,
  "nbformat_minor": 0,
  "metadata": {
    "colab": {
      "name": "authCode.ipynb",
      "provenance": [],
      "authorship_tag": "ABX9TyMdowtbgAs7OOwi8d0Zfxo+",
      "include_colab_link": true
    },
    "kernelspec": {
      "name": "python3",
      "display_name": "Python 3"
    },
    "language_info": {
      "name": "python"
    }
  },
  "cells": [
    {
      "cell_type": "markdown",
      "metadata": {
        "id": "view-in-github",
        "colab_type": "text"
      },
      "source": [
        "<a href=\"https://colab.research.google.com/github/ariwells2001/aqara-open-api/blob/main/authCode.ipynb\" target=\"_parent\"><img src=\"https://colab.research.google.com/assets/colab-badge.svg\" alt=\"Open In Colab\"/></a>"
      ]
    },
    {
      "cell_type": "code",
      "source": [
        "import requests\n",
        "import json\n",
        "\n",
        "\n",
        "# User information\n",
        "account= 'ariwells2001@gmail.com'\n",
        "password= 'iot12345'\n",
        "\n",
        "\n",
        "\n",
        "atSign = '%40'\n",
        "colonSign='%3A'\n",
        "slashSign='%2F'\n",
        "\n",
        "appID = '869584076517146624aa4c13'\n",
        "appKey = '5at22qrvj0a5tfm8ls7s4jb6lqdnkm07'\n",
        "keyID = 'K.944533654225899520'\n",
        "\n",
        "response_type= 'code'\n",
        "redirect_url= 'https://ariwells-redirect.herokuapp.com/aqararesponse'\n",
        "state= 'abc'\n",
        "\n",
        "client_id = 'client_id='+ appID + '&'\n",
        "response_type = 'response_type=' + response_type + '&'\n",
        "redirect_url='redirect_uri=' + (redirect_url.replace(':','%3A')).replace('/','%2F') + '&'\n",
        "account='account=' + account.replace('@','%40') + '&'\n",
        "password='password=' + password + '&'\n",
        "state='state=' + state\n",
        "\n",
        "url = \"https://open-kr.aqara.com/v3.0/open/authorize\"\n",
        "\n",
        "payload = client_id+response_type+redirect_url+account+password+state\n",
        "\n",
        "headers = {\n",
        "  'Content-Type': 'application/x-www-form-urlencoded'\n",
        "}\n",
        "\n",
        "\n",
        "response = requests.post(url, headers=headers, data=payload)\n",
        "response = json.loads(response.text)\n",
        "\n",
        "authCode = response['result']['code']\n",
        "\n",
        "print('authCode is {}'.format(authCode))"
      ],
      "metadata": {
        "colab": {
          "base_uri": "https://localhost:8080/"
        },
        "id": "iQ8WRFAhgeYB",
        "outputId": "4d53f1a1-e5bf-4b37-c3cd-bfc26c465381"
      },
      "execution_count": 1,
      "outputs": [
        {
          "output_type": "stream",
          "name": "stdout",
          "text": [
            "authCode is 954b49e671f6c4ed92a916ee7d4debf1\n"
          ]
        }
      ]
    },
    {
      "cell_type": "code",
      "source": [
        "url_accesstoken = 'https://open-kr.aqara.com/v3.0/open/access_token'\n",
        "redirect_url= 'https://ariwells-redirect.herokuapp.com/aqararesponse'\n",
        "\n",
        "client_secret = 'client_secret=' + appKey + '&'\n",
        "grant_type = 'grant_type=' + 'authorization_code' + '&' \n",
        "code = 'code=' + authCode + '&'\n",
        "redirect_url='redirect_uri=' + (redirect_url.replace(':','%3A')).replace('/','%2F')\n",
        "\n",
        "payload = client_id + client_secret + grant_type + code + redirect_url\n",
        "\n",
        "response = requests.post(url_accesstoken, headers=headers, data=payload)\n",
        "response = json.loads(response.text)\n",
        "print (type(response))\n",
        "print(response['access_token'])\n",
        "accessToken = response['access_token']\n",
        "refreshToken = response['refresh_token']\n",
        "\n",
        "print('accessToken is {}'.format(accessToken))"
      ],
      "metadata": {
        "colab": {
          "base_uri": "https://localhost:8080/"
        },
        "id": "Gc49sBuvd4bM",
        "outputId": "dd4fc154-f483-4d4f-c04e-4a78ab1dc747"
      },
      "execution_count": 2,
      "outputs": [
        {
          "output_type": "stream",
          "name": "stdout",
          "text": [
            "<class 'dict'>\n",
            "434289069d57324b798493c9c2a459e6\n",
            "accessToken is 434289069d57324b798493c9c2a459e6\n"
          ]
        }
      ]
    },
    {
      "cell_type": "code",
      "source": [
        "import time\n",
        "import requests\n",
        "import json\n",
        "import hashlib\n",
        "\n",
        "\n",
        "keyVar = {\n",
        "\n",
        "    'AppidVar' : '869584076517146624aa4c13',\n",
        "    'AppkeyVar' : '5at22qrvj0a5tfm8ls7s4jb6lqdnkm07',\n",
        "    'KeyidVar' : 'K.944533654225899520',\n",
        "    'AccesstokenVar' : accessToken,\n",
        "    'RefreshtokenVar': refreshToken\n",
        "}\n",
        "\n",
        "\n",
        "def getKeyVar(myAccesstoken):\n",
        "    \n",
        "    \n",
        "    currentUTC = str(round(time.time(),3))\n",
        "    tTime = currentUTC.replace('.','')\n",
        "    tAppid = keyVar['AppidVar']\n",
        "    tAccesstoken = myAccesstoken\n",
        "    tKeyid = keyVar['KeyidVar']\n",
        "    tAppKey = keyVar['AppkeyVar']\n",
        "    tNonce = tTime\n",
        "    tPreSign = \"\"\n",
        "\n",
        "    if tAccesstoken != None:\n",
        "        tPreSign = \"Accesstoken=\" + tAccesstoken + \"&\"\n",
        "\n",
        "    tempSign = tPreSign + \"Appid=\" + tAppid + \"&\" + \"Keyid=\" + tKeyid + \"&\" + \"Nonce=\" + tNonce + \"&\" + \"Time=\" + tTime + tAppKey\n",
        "    tPreSign = tempSign.lower()\n",
        "    tSign = str(hashlib.md5(tPreSign.encode()).hexdigest())\n",
        "\n",
        "    resultKeyVar = {\n",
        "        'Time': tTime,\n",
        "        'Nonce': tNonce,\n",
        "        'Sign': tSign,\n",
        "            }\n",
        "    print(resultKeyVar)\n",
        "    return resultKeyVar\n",
        "\n",
        "resultKeyVar = getKeyVar(keyVar['AccesstokenVar'])\n",
        "\n",
        "keyVariables = {\n",
        "        'SignVar' : resultKeyVar['Sign'],\n",
        "        'TimeVar' : resultKeyVar['Time'],\n",
        "        'NonceVar' : resultKeyVar['Nonce'],\n",
        "        'AppidVar' : keyVar['AppidVar'],\n",
        "        'AppkeyVar' : keyVar['AppkeyVar'],\n",
        "        'KeyidVar' : keyVar['KeyidVar'],\n",
        "        'AccesstokenVar' : keyVar['AccesstokenVar'],\n",
        "        'RefreshtokenVar' : keyVar['RefreshtokenVar'],\n",
        "        'urlVar' : 'https://open-kr.aqara.com/v3.0/open/api',\n",
        "        'urlCodeAuth20' : 'https://open-kr.aqara.com/v3.0/open/authorize',\n",
        "        'urlAccessTokenAuth20' : 'https://open-kr.aqara.com/v3.0/open/access_token'\n",
        "    }\n",
        "\n",
        "headers = {\n",
        "    'Content-Type' : 'application/json;charset=utf-8',\n",
        "    'Appid' : keyVariables['AppidVar'],\n",
        "    'Accesstoken': keyVariables['AccesstokenVar'],\n",
        "    'Keyid': keyVariables['KeyidVar'],\n",
        "    'AppKey': keyVariables['AppkeyVar'],\n",
        "    'Time': keyVariables['TimeVar'],\n",
        "    'Nonce': keyVariables['NonceVar'],\n",
        "    'Sign': keyVariables['SignVar']\n",
        "    }"
      ],
      "metadata": {
        "colab": {
          "base_uri": "https://localhost:8080/"
        },
        "id": "8WHhVOSDiI2F",
        "outputId": "15a8fe21-c2d5-4bcc-a69c-d074f59ad647"
      },
      "execution_count": 3,
      "outputs": [
        {
          "output_type": "stream",
          "name": "stdout",
          "text": [
            "{'Time': '1645773128406', 'Nonce': '1645773128406', 'Sign': '60c5768abf765ec1841537ce8223adb1'}\n"
          ]
        }
      ]
    },
    {
      "cell_type": "code",
      "source": [
        "payload = json.dumps({\n",
        "  \"intent\": \"query.position.info\",\n",
        "  \"data\": {\n",
        "    \"pageNum\": 1,\n",
        "    \"pageSize\": 5\n",
        "  }\n",
        "})\n",
        "\n",
        "response = requests.post(keyVariables['urlVar'], headers=headers, data=payload)\n",
        "response = json.loads(response.text)\n",
        "positionId = response['result']['data'][0]['positionId']\n",
        "print('positionId is {}'.format(positionId))"
      ],
      "metadata": {
        "colab": {
          "base_uri": "https://localhost:8080/"
        },
        "id": "WmcnpljVo4nm",
        "outputId": "c9e3475c-a614-4630-95f9-a4bc05cf9192"
      },
      "execution_count": 4,
      "outputs": [
        {
          "output_type": "stream",
          "name": "stdout",
          "text": [
            "positionId is real1.943997533140799488\n"
          ]
        }
      ]
    },
    {
      "cell_type": "code",
      "source": [
        "\n"
      ],
      "metadata": {
        "id": "_ylEsjnYtbmf"
      },
      "execution_count": 4,
      "outputs": []
    },
    {
      "cell_type": "code",
      "source": [
        ""
      ],
      "metadata": {
        "id": "T6t0XKkktelo"
      },
      "execution_count": 4,
      "outputs": []
    }
  ]
}